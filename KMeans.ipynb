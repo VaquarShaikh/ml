{
 "cells": [
  {
   "cell_type": "code",
   "execution_count": 69,
   "metadata": {},
   "outputs": [
    {
     "name": "stdout",
     "output_type": "stream",
     "text": [
      "Initial centroids :  [[0.1 0.6]\n",
      " [0.3 0.2]]\n",
      "Labels :  [0 0 0 0 1 0 1 1]\n",
      "P6 belongs to :  0\n",
      "population around m2 :  3\n"
     ]
    },
    {
     "data": {
      "text/plain": [
       "[<matplotlib.lines.Line2D at 0x2465389e910>]"
      ]
     },
     "execution_count": 69,
     "metadata": {},
     "output_type": "execute_result"
    },
    {
     "data": {
      "image/png": "[encoded data removed]",
      "text/plain": [
       "<Figure size 432x288 with 1 Axes>"
      ]
     },
     "metadata": {
      "needs_background": "light"
     },
     "output_type": "display_data"
    }
   ],
   "source": [
    "import numpy as np\n",
    "import pandas as pd\n",
    "import matplotlib.pyplot as plt \n",
    "from sklearn.cluster import KMeans as km\n",
    "\n",
    "x=[[0.1,0.6],[0.15,0.71],[0.08,0.9],[0.16,0.85],[0.2,0.3],[0.25,0.5],[0.24,0.1],[0.3,0.2]]\n",
    "\n",
    "centers = np.array([[0.1,0.6] , [0.3,0.2] ])\n",
    "print(\"Initial centroids : \" , centers )\n",
    "\n",
    "clf = km(n_clusters = 2 , init = centers , n_init = 1 )\n",
    "clf.fit(x)\n",
    "\n",
    "print(\"Labels : \" , clf.labels_)\n",
    "\n",
    "print(\"P6 belongs to : \" , clf.labels_[5] )\n",
    "\n",
    "print(\"population around m2 : \" , np.count_nonzero(clf.labels_ == 1) )\n",
    "\n",
    "plt.plot(clf.labels_ , 'x')\n",
    "# segregating jews :)"
   ]
  }
 ],
 "metadata": {
  "kernelspec": {
   "display_name": "Python 3",
   "language": "python",
   "name": "python3"
  },
  "language_info": {
   "codemirror_mode": {
    "name": "ipython",
    "version": 3
   },
   "file_extension": ".py",
   "mimetype": "text/x-python",
   "name": "python",
   "nbconvert_exporter": "python",
   "pygments_lexer": "ipython3",
   "version": "3.8.3"
  }
 },
 "nbformat": 4,
 "nbformat_minor": 4
}
